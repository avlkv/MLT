{
 "cells": [
  {
   "cell_type": "code",
   "execution_count": 18,
   "metadata": {},
   "outputs": [],
   "source": [
    "import numpy as np\n",
    "import pandas as pd\n",
    "import seaborn as sns\n",
    "import matplotlib.pyplot as plt\n",
    "from sklearn.metrics import mean_absolute_error, mean_squared_error,  median_absolute_error, r2_score \n",
    "%matplotlib inline \n",
    "sns.set(style=\"whitegrid\")"
   ]
  },
  {
   "cell_type": "markdown",
   "metadata": {},
   "source": [
    "# Загрузка и первичный анализ набора данных\n",
    "Для лабораторной работы будем использовать набор данных о [медицинской страховке](https://www.kaggle.com/mirichoi0218/insurance).\n",
    "<a id='data_desc'></a> \n",
    "\n",
    "<b>Задача регрессии</b> состоит в предсказании платы за медицинское обслуживание на основании других параметров.\n",
    "\n",
    "Колонки:\n",
    "\n",
    "1. `age` - возраст\n",
    "2. `sex` -  пол\n",
    "3. `bmi` - индекс массы тела\n",
    "4. `children` - кол-во детей\n",
    "5. `smoker` - курит/не курит\n",
    "6. `region` - регион проживания в США\n",
    "7. `charges` - плата за мед. обслуживание"
   ]
  },
  {
   "cell_type": "code",
   "execution_count": 83,
   "metadata": {},
   "outputs": [
    {
     "data": {
      "text/html": [
       "<div>\n",
       "<style scoped>\n",
       "    .dataframe tbody tr th:only-of-type {\n",
       "        vertical-align: middle;\n",
       "    }\n",
       "\n",
       "    .dataframe tbody tr th {\n",
       "        vertical-align: top;\n",
       "    }\n",
       "\n",
       "    .dataframe thead th {\n",
       "        text-align: right;\n",
       "    }\n",
       "</style>\n",
       "<table border=\"1\" class=\"dataframe\">\n",
       "  <thead>\n",
       "    <tr style=\"text-align: right;\">\n",
       "      <th></th>\n",
       "      <th>age</th>\n",
       "      <th>sex</th>\n",
       "      <th>bmi</th>\n",
       "      <th>children</th>\n",
       "      <th>smoker</th>\n",
       "      <th>region</th>\n",
       "      <th>charges</th>\n",
       "    </tr>\n",
       "  </thead>\n",
       "  <tbody>\n",
       "    <tr>\n",
       "      <td>0</td>\n",
       "      <td>19</td>\n",
       "      <td>female</td>\n",
       "      <td>27.900</td>\n",
       "      <td>0</td>\n",
       "      <td>yes</td>\n",
       "      <td>southwest</td>\n",
       "      <td>16884.92400</td>\n",
       "    </tr>\n",
       "    <tr>\n",
       "      <td>1</td>\n",
       "      <td>18</td>\n",
       "      <td>male</td>\n",
       "      <td>33.770</td>\n",
       "      <td>1</td>\n",
       "      <td>no</td>\n",
       "      <td>southeast</td>\n",
       "      <td>1725.55230</td>\n",
       "    </tr>\n",
       "    <tr>\n",
       "      <td>2</td>\n",
       "      <td>28</td>\n",
       "      <td>male</td>\n",
       "      <td>33.000</td>\n",
       "      <td>3</td>\n",
       "      <td>no</td>\n",
       "      <td>southeast</td>\n",
       "      <td>4449.46200</td>\n",
       "    </tr>\n",
       "    <tr>\n",
       "      <td>3</td>\n",
       "      <td>33</td>\n",
       "      <td>male</td>\n",
       "      <td>22.705</td>\n",
       "      <td>0</td>\n",
       "      <td>no</td>\n",
       "      <td>northwest</td>\n",
       "      <td>21984.47061</td>\n",
       "    </tr>\n",
       "    <tr>\n",
       "      <td>4</td>\n",
       "      <td>32</td>\n",
       "      <td>male</td>\n",
       "      <td>28.880</td>\n",
       "      <td>0</td>\n",
       "      <td>no</td>\n",
       "      <td>northwest</td>\n",
       "      <td>3866.85520</td>\n",
       "    </tr>\n",
       "    <tr>\n",
       "      <td>...</td>\n",
       "      <td>...</td>\n",
       "      <td>...</td>\n",
       "      <td>...</td>\n",
       "      <td>...</td>\n",
       "      <td>...</td>\n",
       "      <td>...</td>\n",
       "      <td>...</td>\n",
       "    </tr>\n",
       "    <tr>\n",
       "      <td>1333</td>\n",
       "      <td>50</td>\n",
       "      <td>male</td>\n",
       "      <td>30.970</td>\n",
       "      <td>3</td>\n",
       "      <td>no</td>\n",
       "      <td>northwest</td>\n",
       "      <td>10600.54830</td>\n",
       "    </tr>\n",
       "    <tr>\n",
       "      <td>1334</td>\n",
       "      <td>18</td>\n",
       "      <td>female</td>\n",
       "      <td>31.920</td>\n",
       "      <td>0</td>\n",
       "      <td>no</td>\n",
       "      <td>northeast</td>\n",
       "      <td>2205.98080</td>\n",
       "    </tr>\n",
       "    <tr>\n",
       "      <td>1335</td>\n",
       "      <td>18</td>\n",
       "      <td>female</td>\n",
       "      <td>36.850</td>\n",
       "      <td>0</td>\n",
       "      <td>no</td>\n",
       "      <td>southeast</td>\n",
       "      <td>1629.83350</td>\n",
       "    </tr>\n",
       "    <tr>\n",
       "      <td>1336</td>\n",
       "      <td>21</td>\n",
       "      <td>female</td>\n",
       "      <td>25.800</td>\n",
       "      <td>0</td>\n",
       "      <td>no</td>\n",
       "      <td>southwest</td>\n",
       "      <td>2007.94500</td>\n",
       "    </tr>\n",
       "    <tr>\n",
       "      <td>1337</td>\n",
       "      <td>61</td>\n",
       "      <td>female</td>\n",
       "      <td>29.070</td>\n",
       "      <td>0</td>\n",
       "      <td>yes</td>\n",
       "      <td>northwest</td>\n",
       "      <td>29141.36030</td>\n",
       "    </tr>\n",
       "  </tbody>\n",
       "</table>\n",
       "<p>1338 rows × 7 columns</p>\n",
       "</div>"
      ],
      "text/plain": [
       "      age     sex     bmi  children smoker     region      charges\n",
       "0      19  female  27.900         0    yes  southwest  16884.92400\n",
       "1      18    male  33.770         1     no  southeast   1725.55230\n",
       "2      28    male  33.000         3     no  southeast   4449.46200\n",
       "3      33    male  22.705         0     no  northwest  21984.47061\n",
       "4      32    male  28.880         0     no  northwest   3866.85520\n",
       "...   ...     ...     ...       ...    ...        ...          ...\n",
       "1333   50    male  30.970         3     no  northwest  10600.54830\n",
       "1334   18  female  31.920         0     no  northeast   2205.98080\n",
       "1335   18  female  36.850         0     no  southeast   1629.83350\n",
       "1336   21  female  25.800         0     no  southwest   2007.94500\n",
       "1337   61  female  29.070         0    yes  northwest  29141.36030\n",
       "\n",
       "[1338 rows x 7 columns]"
      ]
     },
     "execution_count": 83,
     "metadata": {},
     "output_type": "execute_result"
    }
   ],
   "source": [
    "data = pd.read_csv('../data/insurance.csv', sep = ',')\n",
    "data"
   ]
  },
  {
   "cell_type": "code",
   "execution_count": 84,
   "metadata": {},
   "outputs": [
    {
     "data": {
      "text/plain": [
       "(1338, 7)"
      ]
     },
     "execution_count": 84,
     "metadata": {},
     "output_type": "execute_result"
    }
   ],
   "source": [
    "# Размер набора данных (строки, колонки)\n",
    "data.shape"
   ]
  },
  {
   "cell_type": "code",
   "execution_count": 85,
   "metadata": {},
   "outputs": [
    {
     "data": {
      "text/plain": [
       "age           int64\n",
       "sex          object\n",
       "bmi         float64\n",
       "children      int64\n",
       "smoker       object\n",
       "region       object\n",
       "charges     float64\n",
       "dtype: object"
      ]
     },
     "execution_count": 85,
     "metadata": {},
     "output_type": "execute_result"
    }
   ],
   "source": [
    "# Типы данных в колонках\n",
    "data.dtypes"
   ]
  },
  {
   "cell_type": "markdown",
   "metadata": {},
   "source": [
    "### Проверка на наличие пропущенных значений"
   ]
  },
  {
   "cell_type": "code",
   "execution_count": 86,
   "metadata": {},
   "outputs": [
    {
     "data": {
      "text/plain": [
       "age         0\n",
       "sex         0\n",
       "bmi         0\n",
       "children    0\n",
       "smoker      0\n",
       "region      0\n",
       "charges     0\n",
       "dtype: int64"
      ]
     },
     "execution_count": 86,
     "metadata": {},
     "output_type": "execute_result"
    }
   ],
   "source": [
    "data.isnull().sum()"
   ]
  },
  {
   "cell_type": "markdown",
   "metadata": {},
   "source": [
    "Пропущенные значения не найдены."
   ]
  },
  {
   "cell_type": "markdown",
   "metadata": {},
   "source": [
    "### Основные статистические показатели для каждого параметра"
   ]
  },
  {
   "cell_type": "code",
   "execution_count": 87,
   "metadata": {},
   "outputs": [
    {
     "data": {
      "text/html": [
       "<div>\n",
       "<style scoped>\n",
       "    .dataframe tbody tr th:only-of-type {\n",
       "        vertical-align: middle;\n",
       "    }\n",
       "\n",
       "    .dataframe tbody tr th {\n",
       "        vertical-align: top;\n",
       "    }\n",
       "\n",
       "    .dataframe thead th {\n",
       "        text-align: right;\n",
       "    }\n",
       "</style>\n",
       "<table border=\"1\" class=\"dataframe\">\n",
       "  <thead>\n",
       "    <tr style=\"text-align: right;\">\n",
       "      <th></th>\n",
       "      <th>age</th>\n",
       "      <th>bmi</th>\n",
       "      <th>children</th>\n",
       "      <th>charges</th>\n",
       "    </tr>\n",
       "  </thead>\n",
       "  <tbody>\n",
       "    <tr>\n",
       "      <td>count</td>\n",
       "      <td>1338.000000</td>\n",
       "      <td>1338.000000</td>\n",
       "      <td>1338.000000</td>\n",
       "      <td>1338.000000</td>\n",
       "    </tr>\n",
       "    <tr>\n",
       "      <td>mean</td>\n",
       "      <td>39.207025</td>\n",
       "      <td>30.663397</td>\n",
       "      <td>1.094918</td>\n",
       "      <td>13270.422265</td>\n",
       "    </tr>\n",
       "    <tr>\n",
       "      <td>std</td>\n",
       "      <td>14.049960</td>\n",
       "      <td>6.098187</td>\n",
       "      <td>1.205493</td>\n",
       "      <td>12110.011237</td>\n",
       "    </tr>\n",
       "    <tr>\n",
       "      <td>min</td>\n",
       "      <td>18.000000</td>\n",
       "      <td>15.960000</td>\n",
       "      <td>0.000000</td>\n",
       "      <td>1121.873900</td>\n",
       "    </tr>\n",
       "    <tr>\n",
       "      <td>25%</td>\n",
       "      <td>27.000000</td>\n",
       "      <td>26.296250</td>\n",
       "      <td>0.000000</td>\n",
       "      <td>4740.287150</td>\n",
       "    </tr>\n",
       "    <tr>\n",
       "      <td>50%</td>\n",
       "      <td>39.000000</td>\n",
       "      <td>30.400000</td>\n",
       "      <td>1.000000</td>\n",
       "      <td>9382.033000</td>\n",
       "    </tr>\n",
       "    <tr>\n",
       "      <td>75%</td>\n",
       "      <td>51.000000</td>\n",
       "      <td>34.693750</td>\n",
       "      <td>2.000000</td>\n",
       "      <td>16639.912515</td>\n",
       "    </tr>\n",
       "    <tr>\n",
       "      <td>max</td>\n",
       "      <td>64.000000</td>\n",
       "      <td>53.130000</td>\n",
       "      <td>5.000000</td>\n",
       "      <td>63770.428010</td>\n",
       "    </tr>\n",
       "  </tbody>\n",
       "</table>\n",
       "</div>"
      ],
      "text/plain": [
       "               age          bmi     children       charges\n",
       "count  1338.000000  1338.000000  1338.000000   1338.000000\n",
       "mean     39.207025    30.663397     1.094918  13270.422265\n",
       "std      14.049960     6.098187     1.205493  12110.011237\n",
       "min      18.000000    15.960000     0.000000   1121.873900\n",
       "25%      27.000000    26.296250     0.000000   4740.287150\n",
       "50%      39.000000    30.400000     1.000000   9382.033000\n",
       "75%      51.000000    34.693750     2.000000  16639.912515\n",
       "max      64.000000    53.130000     5.000000  63770.428010"
      ]
     },
     "execution_count": 87,
     "metadata": {},
     "output_type": "execute_result"
    }
   ],
   "source": [
    "data.describe()"
   ]
  },
  {
   "cell_type": "markdown",
   "metadata": {},
   "source": [
    "Преобразуем категориальные признаки в числовые:"
   ]
  },
  {
   "cell_type": "code",
   "execution_count": 88,
   "metadata": {},
   "outputs": [],
   "source": [
    "from sklearn.preprocessing import LabelEncoder\n",
    "le = LabelEncoder()\n",
    "#пол\n",
    "le.fit(data.sex.drop_duplicates()) \n",
    "data.sex = le.transform(data.sex)\n",
    "#курение\n",
    "le.fit(data.smoker.drop_duplicates()) \n",
    "data.smoker = le.transform(data.smoker)\n",
    "#регион\n",
    "le.fit(data.region.drop_duplicates()) \n",
    "data.region = le.transform(data.region)"
   ]
  },
  {
   "cell_type": "code",
   "execution_count": 89,
   "metadata": {
    "scrolled": true
   },
   "outputs": [
    {
     "data": {
      "text/html": [
       "<div>\n",
       "<style scoped>\n",
       "    .dataframe tbody tr th:only-of-type {\n",
       "        vertical-align: middle;\n",
       "    }\n",
       "\n",
       "    .dataframe tbody tr th {\n",
       "        vertical-align: top;\n",
       "    }\n",
       "\n",
       "    .dataframe thead th {\n",
       "        text-align: right;\n",
       "    }\n",
       "</style>\n",
       "<table border=\"1\" class=\"dataframe\">\n",
       "  <thead>\n",
       "    <tr style=\"text-align: right;\">\n",
       "      <th></th>\n",
       "      <th>age</th>\n",
       "      <th>sex</th>\n",
       "      <th>bmi</th>\n",
       "      <th>children</th>\n",
       "      <th>smoker</th>\n",
       "      <th>region</th>\n",
       "      <th>charges</th>\n",
       "    </tr>\n",
       "  </thead>\n",
       "  <tbody>\n",
       "    <tr>\n",
       "      <td>0</td>\n",
       "      <td>19</td>\n",
       "      <td>0</td>\n",
       "      <td>27.900</td>\n",
       "      <td>0</td>\n",
       "      <td>1</td>\n",
       "      <td>3</td>\n",
       "      <td>16884.92400</td>\n",
       "    </tr>\n",
       "    <tr>\n",
       "      <td>1</td>\n",
       "      <td>18</td>\n",
       "      <td>1</td>\n",
       "      <td>33.770</td>\n",
       "      <td>1</td>\n",
       "      <td>0</td>\n",
       "      <td>2</td>\n",
       "      <td>1725.55230</td>\n",
       "    </tr>\n",
       "    <tr>\n",
       "      <td>2</td>\n",
       "      <td>28</td>\n",
       "      <td>1</td>\n",
       "      <td>33.000</td>\n",
       "      <td>3</td>\n",
       "      <td>0</td>\n",
       "      <td>2</td>\n",
       "      <td>4449.46200</td>\n",
       "    </tr>\n",
       "    <tr>\n",
       "      <td>3</td>\n",
       "      <td>33</td>\n",
       "      <td>1</td>\n",
       "      <td>22.705</td>\n",
       "      <td>0</td>\n",
       "      <td>0</td>\n",
       "      <td>1</td>\n",
       "      <td>21984.47061</td>\n",
       "    </tr>\n",
       "    <tr>\n",
       "      <td>4</td>\n",
       "      <td>32</td>\n",
       "      <td>1</td>\n",
       "      <td>28.880</td>\n",
       "      <td>0</td>\n",
       "      <td>0</td>\n",
       "      <td>1</td>\n",
       "      <td>3866.85520</td>\n",
       "    </tr>\n",
       "  </tbody>\n",
       "</table>\n",
       "</div>"
      ],
      "text/plain": [
       "   age  sex     bmi  children  smoker  region      charges\n",
       "0   19    0  27.900         0       1       3  16884.92400\n",
       "1   18    1  33.770         1       0       2   1725.55230\n",
       "2   28    1  33.000         3       0       2   4449.46200\n",
       "3   33    1  22.705         0       0       1  21984.47061\n",
       "4   32    1  28.880         0       0       1   3866.85520"
      ]
     },
     "execution_count": 89,
     "metadata": {},
     "output_type": "execute_result"
    }
   ],
   "source": [
    "data.head()"
   ]
  },
  {
   "cell_type": "markdown",
   "metadata": {},
   "source": [
    "# Разделение выборки на тестовую и обучающую"
   ]
  },
  {
   "cell_type": "markdown",
   "metadata": {},
   "source": [
    "Подключим необходимый метод из библиотек sklearn."
   ]
  },
  {
   "cell_type": "code",
   "execution_count": 90,
   "metadata": {},
   "outputs": [],
   "source": [
    "from sklearn.model_selection import train_test_split"
   ]
  },
  {
   "cell_type": "markdown",
   "metadata": {},
   "source": [
    "Разделим выборку на входные и выходные данные:"
   ]
  },
  {
   "cell_type": "code",
   "execution_count": 91,
   "metadata": {},
   "outputs": [
    {
     "name": "stdout",
     "output_type": "stream",
     "text": [
      "Входные данные:\n",
      "\n",
      "    age  sex     bmi  children  smoker  region\n",
      "0   19    0  27.900         0       1       3\n",
      "1   18    1  33.770         1       0       2\n",
      "2   28    1  33.000         3       0       2\n",
      "3   33    1  22.705         0       0       1\n",
      "4   32    1  28.880         0       0       1 \n",
      "\n",
      "Выходные данные:\n",
      "\n",
      " 0    16884.92400\n",
      "1     1725.55230\n",
      "2     4449.46200\n",
      "3    21984.47061\n",
      "4     3866.85520\n",
      "Name: charges, dtype: float64\n"
     ]
    }
   ],
   "source": [
    "X = data.drop(['charges'], axis = 1)\n",
    "Y = data.charges\n",
    "print('Входные данные:\\n\\n', X.head(), '\\n\\nВыходные данные:\\n\\n', Y.head())"
   ]
  },
  {
   "cell_type": "markdown",
   "metadata": {},
   "source": [
    "Наконец, разделим выборку на обучающую и тестовую."
   ]
  },
  {
   "cell_type": "code",
   "execution_count": 92,
   "metadata": {},
   "outputs": [],
   "source": [
    "X_train,  X_test,  Y_train,  Y_test = train_test_split(X,  Y, random_state = 0)"
   ]
  },
  {
   "cell_type": "code",
   "execution_count": 93,
   "metadata": {},
   "outputs": [
    {
     "name": "stdout",
     "output_type": "stream",
     "text": [
      "Входные параметры обучающей выборки:\n",
      "\n",
      "       age  sex    bmi  children  smoker  region\n",
      "1075   32    0  29.59         1       0       2\n",
      "131    61    0  22.04         0       0       0\n",
      "15     19    1  24.60         1       0       3\n",
      "1223   20    0  24.42         0       1       2\n",
      "1137   26    0  22.23         0       0       1 \n",
      "\n",
      "Входные параметры тестовой выборки:\n",
      "\n",
      "       age  sex     bmi  children  smoker  region\n",
      "578    52    1  30.200         1       0       3\n",
      "610    47    0  29.370         1       0       2\n",
      "569    48    1  40.565         2       1       1\n",
      "1034   61    1  38.380         0       0       1\n",
      "198    51    0  18.050         0       0       1 \n",
      "\n",
      "Выходные параметры обучающей выборки:\n",
      "\n",
      " 1075     4562.84210\n",
      "131     13616.35860\n",
      "15       1837.23700\n",
      "1223    26125.67477\n",
      "1137     3176.28770\n",
      "Name: charges, dtype: float64 \n",
      "\n",
      "Выходные параметры тестовой выборки:\n",
      "\n",
      " 578      9724.53000\n",
      "610      8547.69130\n",
      "569     45702.02235\n",
      "1034    12950.07120\n",
      "198      9644.25250\n",
      "Name: charges, dtype: float64\n"
     ]
    }
   ],
   "source": [
    "print('Входные параметры обучающей выборки:\\n\\n',X_train.head(), \\\n",
    "      '\\n\\nВходные параметры тестовой выборки:\\n\\n', X_test.head(), \\\n",
    "      '\\n\\nВыходные параметры обучающей выборки:\\n\\n', Y_train.head(), \\\n",
    "      '\\n\\nВыходные параметры тестовой выборки:\\n\\n', Y_test.head())"
   ]
  },
  {
   "cell_type": "markdown",
   "metadata": {},
   "source": [
    "Проверим правильность разделения выборки на тестовую и обучающую. Посмотрим на размеры матриц."
   ]
  },
  {
   "cell_type": "code",
   "execution_count": 94,
   "metadata": {},
   "outputs": [
    {
     "name": "stdout",
     "output_type": "stream",
     "text": [
      "(1003, 6)\n",
      "(335, 6)\n",
      "(1003,)\n",
      "(335,)\n"
     ]
    }
   ],
   "source": [
    "print(X_train.shape)\n",
    "print(X_test.shape)\n",
    "print(Y_train.shape)\n",
    "print(Y_test.shape)"
   ]
  },
  {
   "cell_type": "markdown",
   "metadata": {},
   "source": [
    "# Случайный лес\n",
    "\n",
    "Построим случайный лес из 5 деревьев."
   ]
  },
  {
   "cell_type": "code",
   "execution_count": 95,
   "metadata": {},
   "outputs": [
    {
     "name": "stderr",
     "output_type": "stream",
     "text": [
      "C:\\Users\\volko\\Anaconda3\\lib\\site-packages\\sklearn\\ensemble\\forest.py:737: UserWarning: Some inputs do not have OOB scores. This probably means too few trees were used to compute any reliable oob estimates.\n",
      "  warn(\"Some inputs do not have OOB scores. \"\n"
     ]
    },
    {
     "data": {
      "text/plain": [
       "RandomForestRegressor(bootstrap=True, criterion='mse', max_depth=None,\n",
       "                      max_features='auto', max_leaf_nodes=None,\n",
       "                      min_impurity_decrease=0.0, min_impurity_split=None,\n",
       "                      min_samples_leaf=1, min_samples_split=2,\n",
       "                      min_weight_fraction_leaf=0.0, n_estimators=5, n_jobs=None,\n",
       "                      oob_score=True, random_state=10, verbose=0,\n",
       "                      warm_start=False)"
      ]
     },
     "execution_count": 95,
     "metadata": {},
     "output_type": "execute_result"
    }
   ],
   "source": [
    "from sklearn.ensemble import RandomForestRegressor\n",
    "\n",
    "tree1 = RandomForestRegressor(n_estimators=5, oob_score=True, random_state=10)\n",
    "tree1.fit(X, Y)"
   ]
  },
  {
   "cell_type": "code",
   "execution_count": 96,
   "metadata": {},
   "outputs": [
    {
     "name": "stdout",
     "output_type": "stream",
     "text": [
      "Средняя абсолютная ошибка: 1095.6634543490547\n",
      "Средняя квадратичная ошибка: 5374005.303428832\n",
      "Median absolute error: 166.61947999999938\n",
      "Коэффициент детерминации: 0.9658651384110751\n"
     ]
    }
   ],
   "source": [
    "Y_predict = tree1.predict(X_test)\n",
    "print('Средняя абсолютная ошибка:',mean_absolute_error(Y_test, Y_predict))\n",
    "print('Средняя квадратичная ошибка:',mean_squared_error(Y_test, Y_predict))\n",
    "print('Median absolute error:',median_absolute_error(Y_test, Y_predict))\n",
    "print('Коэффициент детерминации:',r2_score(Y_test, Y_predict))"
   ]
  },
  {
   "cell_type": "markdown",
   "metadata": {},
   "source": [
    "Коэффициент детерминации оцень хороший. Оценки ошибок все же оставляют желать лучшего."
   ]
  },
  {
   "cell_type": "code",
   "execution_count": 97,
   "metadata": {},
   "outputs": [
    {
     "data": {
      "image/png": "[encoded data removed]",
      "text/plain": [
       "<Figure size 432x288 with 1 Axes>"
      ]
     },
     "metadata": {},
     "output_type": "display_data"
    }
   ],
   "source": [
    "plt.scatter(X_test.age, Y_test, marker = 'o', label = 'Тестовая выборка')\n",
    "plt.scatter(X_test.age, Y_predict, marker = '.', label = 'Предсказанные данные')\n",
    "plt.legend(loc = 'lower right')\n",
    "plt.xlabel('Возраст')\n",
    "plt.ylabel('Целевой признак')\n",
    "plt.show()"
   ]
  },
  {
   "cell_type": "markdown",
   "metadata": {},
   "source": [
    "Сравним показатели с полиномиальным регрессором в методе опорных векторов из пятой лабораторной работы."
   ]
  },
  {
   "cell_type": "code",
   "execution_count": 98,
   "metadata": {},
   "outputs": [
    {
     "data": {
      "image/png": "[encoded data removed]",
      "text/plain": [
       "<Figure size 432x288 with 1 Axes>"
      ]
     },
     "metadata": {},
     "output_type": "display_data"
    }
   ],
   "source": [
    "from sklearn.svm import SVR\n",
    "\n",
    "X1 = data.drop(['charges'], axis = 1)\n",
    "Y1 = data.charges\n",
    "X_train, X_test, Y_train, Y_test = train_test_split(X1, Y1, random_state=0)\n",
    "\n",
    "polySVR = SVR(kernel='poly', degree=2, gamma=0.2, C=1.0)\n",
    "polySVR.fit(X_train, Y_train)\n",
    "svr_y_pred = polySVR.predict(X_test)\n",
    "\n",
    "plt.scatter(X_test.age, Y_test, marker = 'o', label = 'Тестовая выборка')\n",
    "plt.scatter(X_test.age, svr_y_pred, marker = '.', label = 'Предсказанные данные')\n",
    "plt.legend(loc = 'lower right')\n",
    "plt.xlabel('Возраст')\n",
    "plt.ylabel('Целевой признак')\n",
    "plt.show()"
   ]
  },
  {
   "cell_type": "code",
   "execution_count": 99,
   "metadata": {},
   "outputs": [
    {
     "name": "stdout",
     "output_type": "stream",
     "text": [
      "Средняя абсолютная ошибка: 3149.0234805327673\n",
      "Средняя квадратичная ошибка: 46508573.89319307\n",
      "Median absolute error: 152.70253406748088\n",
      "Коэффициент детерминации: 0.7045846360572994\n"
     ]
    }
   ],
   "source": [
    "print('Средняя абсолютная ошибка:',mean_absolute_error(Y_test, svr_y_pred))\n",
    "print('Средняя квадратичная ошибка:',mean_squared_error(Y_test, svr_y_pred))\n",
    "print('Median absolute error:',median_absolute_error(Y_test, svr_y_pred))\n",
    "print('Коэффициент детерминации:',r2_score(Y_test, svr_y_pred))"
   ]
  },
  {
   "cell_type": "markdown",
   "metadata": {},
   "source": [
    "Видно, что метод случайного леса работает <b>значительно</b> лучше. Помимо улучшения показателей оценок ошибок и коэффициента детерминации это еще заметно и на графике. В методе случайного леса предсказанные данные больше совпадают с тестовой выборкой, учитывается \"кучный разброс\" данных.\n",
    "\n",
    "Попробуем найти лучший случайный лес"
   ]
  },
  {
   "cell_type": "code",
   "execution_count": 100,
   "metadata": {},
   "outputs": [
    {
     "data": {
      "text/plain": [
       "GridSearchCV(cv=3, error_score='raise-deprecating',\n",
       "             estimator=RandomForestRegressor(bootstrap=True, criterion='mse',\n",
       "                                             max_depth=None,\n",
       "                                             max_features='auto',\n",
       "                                             max_leaf_nodes=None,\n",
       "                                             min_impurity_decrease=0.0,\n",
       "                                             min_impurity_split=None,\n",
       "                                             min_samples_leaf=1,\n",
       "                                             min_samples_split=2,\n",
       "                                             min_weight_fraction_leaf=0.0,\n",
       "                                             n_estimators='warn', n_jobs=None,\n",
       "                                             oob_score=True, random_state=10,\n",
       "                                             verbose=0, warm_start=False),\n",
       "             iid='warn', n_jobs=-1,\n",
       "             param_grid={'max_features': [0.2, 0.3, 0.4, 0.6, 0.8, 0.9, 1.0],\n",
       "                         'min_samples_leaf': [0.01, 0.04, 0.06, 0.08, 0.1],\n",
       "                         'n_estimators': [1, 2, 3, 4, 5, 6, 7, 8, 9, 10, 15, 20,\n",
       "                                          25, 50, 75, 100]},\n",
       "             pre_dispatch='2*n_jobs', refit=True, return_train_score=False,\n",
       "             scoring='neg_mean_squared_error', verbose=0)"
      ]
     },
     "execution_count": 100,
     "metadata": {},
     "output_type": "execute_result"
    }
   ],
   "source": [
    "from sklearn.model_selection import GridSearchCV\n",
    "\n",
    "params = {\n",
    "    'n_estimators': [1, 2, 3, 4, 5, 6, 7, 8, 9, 10, 15, 20, 25, 50, 75, 100],\n",
    "    'max_features': [0.2, 0.3, 0.4, 0.6, 0.8, 0.9, 1.0],\n",
    "    'min_samples_leaf': [0.01, 0.04, 0.06, 0.08, 0.1]\n",
    "}\n",
    "\n",
    "grid_1 = GridSearchCV(estimator=RandomForestRegressor(oob_score=True, random_state=10),\n",
    "                    param_grid=params, scoring='neg_mean_squared_error', cv=3, n_jobs=-1)\n",
    "grid_1.fit(X, Y)"
   ]
  },
  {
   "cell_type": "code",
   "execution_count": 101,
   "metadata": {},
   "outputs": [
    {
     "name": "stdout",
     "output_type": "stream",
     "text": [
      "Лучший показатель средней квадратичной ошибки: 20658459.544196565\n",
      "Параметры для данного показателя:\n",
      " {'max_features': 0.9, 'min_samples_leaf': 0.01, 'n_estimators': 75}\n"
     ]
    }
   ],
   "source": [
    "print('Лучший показатель средней квадратичной ошибки:',-grid_1.best_score_)\n",
    "print('Параметры для данного показателя:\\n',grid_1.best_params_)"
   ]
  },
  {
   "cell_type": "code",
   "execution_count": 102,
   "metadata": {},
   "outputs": [
    {
     "data": {
      "text/plain": [
       "RandomForestRegressor(bootstrap=True, criterion='mse', max_depth=None,\n",
       "                      max_features=0.9, max_leaf_nodes=None,\n",
       "                      min_impurity_decrease=0.0, min_impurity_split=None,\n",
       "                      min_samples_leaf=0.01, min_samples_split=2,\n",
       "                      min_weight_fraction_leaf=0.0, n_estimators=75,\n",
       "                      n_jobs=None, oob_score=True, random_state=10, verbose=0,\n",
       "                      warm_start=False)"
      ]
     },
     "execution_count": 102,
     "metadata": {},
     "output_type": "execute_result"
    }
   ],
   "source": [
    "tree2 = RandomForestRegressor(n_estimators=75, max_features = 0.9, min_samples_leaf = 0.01, oob_score=True, random_state=10)\n",
    "tree2.fit(X, Y)"
   ]
  },
  {
   "cell_type": "code",
   "execution_count": 103,
   "metadata": {},
   "outputs": [
    {
     "name": "stdout",
     "output_type": "stream",
     "text": [
      "Средняя абсолютная ошибка: 2146.9373915955116\n",
      "Средняя квадратичная ошибка: 12385385.504762802\n",
      "Median absolute error: 1410.684748085012\n",
      "Коэффициент детерминации: 0.9213299213417582\n"
     ]
    }
   ],
   "source": [
    "Y_predict2 = tree2.predict(X_test)\n",
    "print('Средняя абсолютная ошибка:',mean_absolute_error(Y_test, Y_predict2))\n",
    "print('Средняя квадратичная ошибка:',mean_squared_error(Y_test, Y_predict2))\n",
    "print('Median absolute error:',median_absolute_error(Y_test, Y_predict2))\n",
    "print('Коэффициент детерминации:',r2_score(Y_test, Y_predict2))"
   ]
  },
  {
   "cell_type": "code",
   "execution_count": 104,
   "metadata": {},
   "outputs": [
    {
     "data": {
      "image/png": "[encoded data removed]",
      "text/plain": [
       "<Figure size 432x288 with 1 Axes>"
      ]
     },
     "metadata": {},
     "output_type": "display_data"
    }
   ],
   "source": [
    "plt.scatter(X_test.age, Y_test, marker = 'o', label = 'Тестовая выборка')\n",
    "plt.scatter(X_test.age, Y_predict2, marker = '.', label = 'Предсказанные данные')\n",
    "plt.legend(loc = 'lower right')\n",
    "plt.xlabel('Возраст')\n",
    "plt.ylabel('Целевой признак')\n",
    "plt.show()"
   ]
  },
  {
   "cell_type": "markdown",
   "metadata": {},
   "source": [
    "Судя по оценкам, точность этого леса действительно улучшилась, но на графике видно, что предсказанные данные больше не совпадают с тестовой выборкой, чем на графике первого леса. То есть нельзя сказать, что данное дерево действительно лучше.\n",
    "\n",
    "Попробуем убрать из набора параметров мин. кол-во данных в листе `min_samples_leaf` и заново провести кросс-валидацию."
   ]
  },
  {
   "cell_type": "code",
   "execution_count": 105,
   "metadata": {},
   "outputs": [
    {
     "name": "stdout",
     "output_type": "stream",
     "text": [
      "Лучший показатель средней квадратичной ошибки: 23068300.96479446\n",
      "Параметры для данного показателя:\n",
      " {'max_features': 0.6, 'n_estimators': 100}\n"
     ]
    }
   ],
   "source": [
    "params2 = {\n",
    "    'n_estimators': [1, 2, 3, 4, 5, 6, 7, 8, 9, 10, 15, 20, 25, 50, 75, 100],\n",
    "    'max_features': [0.2, 0.3, 0.4, 0.6, 0.8, 0.9, 1.0]\n",
    "}\n",
    "\n",
    "grid_2 = GridSearchCV(estimator=RandomForestRegressor(oob_score=True, random_state=10),\n",
    "                    param_grid=params2, scoring='neg_mean_squared_error', cv=3, n_jobs=-1)\n",
    "grid_2.fit(X, Y)\n",
    "print('Лучший показатель средней квадратичной ошибки:',-grid_2.best_score_)\n",
    "print('Параметры для данного показателя:\\n',grid_2.best_params_)"
   ]
  },
  {
   "cell_type": "code",
   "execution_count": 106,
   "metadata": {},
   "outputs": [
    {
     "data": {
      "text/plain": [
       "RandomForestRegressor(bootstrap=True, criterion='mse', max_depth=None,\n",
       "                      max_features=0.6, max_leaf_nodes=None,\n",
       "                      min_impurity_decrease=0.0, min_impurity_split=None,\n",
       "                      min_samples_leaf=1, min_samples_split=2,\n",
       "                      min_weight_fraction_leaf=0.0, n_estimators=100,\n",
       "                      n_jobs=None, oob_score=True, random_state=10, verbose=0,\n",
       "                      warm_start=False)"
      ]
     },
     "execution_count": 106,
     "metadata": {},
     "output_type": "execute_result"
    }
   ],
   "source": [
    "tree3 = RandomForestRegressor(n_estimators=100, max_features = 0.6, oob_score=True, random_state=10)\n",
    "tree3.fit(X, Y)"
   ]
  },
  {
   "cell_type": "code",
   "execution_count": 107,
   "metadata": {},
   "outputs": [
    {
     "name": "stdout",
     "output_type": "stream",
     "text": [
      "Средняя абсолютная ошибка: 887.9995235699863\n",
      "Средняя квадратичная ошибка: 2434563.3416265496\n",
      "Median absolute error: 437.80759429999944\n",
      "Коэффициент детерминации: 0.9845360251797911\n"
     ]
    }
   ],
   "source": [
    "Y_predict3 = tree3.predict(X_test)\n",
    "print('Средняя абсолютная ошибка:',mean_absolute_error(Y_test, Y_predict3))\n",
    "print('Средняя квадратичная ошибка:',mean_squared_error(Y_test, Y_predict3))\n",
    "print('Median absolute error:',median_absolute_error(Y_test, Y_predict3))\n",
    "print('Коэффициент детерминации:',r2_score(Y_test, Y_predict3))"
   ]
  },
  {
   "cell_type": "code",
   "execution_count": 108,
   "metadata": {},
   "outputs": [
    {
     "data": {
      "image/png": "[encoded data removed]",
      "text/plain": [
       "<Figure size 432x288 with 1 Axes>"
      ]
     },
     "metadata": {},
     "output_type": "display_data"
    }
   ],
   "source": [
    "plt.scatter(X_test.age, Y_test, marker = 'o', label = 'Тестовая выборка')\n",
    "plt.scatter(X_test.age, Y_predict3, marker = '.', label = 'Предсказанные данные')\n",
    "plt.legend(loc = 'lower right')\n",
    "plt.xlabel('Возраст')\n",
    "plt.ylabel('Целевой признак')\n",
    "plt.show()"
   ]
  },
  {
   "cell_type": "markdown",
   "metadata": {},
   "source": [
    "Показатели точности еще лучше, и на графике видно хорошее совпадение тестовой выборки и предсказанных данных, хотя при возрасте от 50 до 60 заметно значительное расхождение в данных."
   ]
  },
  {
   "cell_type": "markdown",
   "metadata": {},
   "source": [
    "# Градиентный бустинг\n",
    "\n",
    "Построим ансамбль из 5 моделей"
   ]
  },
  {
   "cell_type": "code",
   "execution_count": 109,
   "metadata": {},
   "outputs": [
    {
     "data": {
      "text/plain": [
       "GradientBoostingRegressor(alpha=0.9, criterion='friedman_mse', init=None,\n",
       "                          learning_rate=0.1, loss='ls', max_depth=3,\n",
       "                          max_features=None, max_leaf_nodes=None,\n",
       "                          min_impurity_decrease=0.0, min_impurity_split=None,\n",
       "                          min_samples_leaf=1, min_samples_split=2,\n",
       "                          min_weight_fraction_leaf=0.0, n_estimators=5,\n",
       "                          n_iter_no_change=None, presort='auto',\n",
       "                          random_state=10, subsample=1.0, tol=0.0001,\n",
       "                          validation_fraction=0.1, verbose=0, warm_start=False)"
      ]
     },
     "execution_count": 109,
     "metadata": {},
     "output_type": "execute_result"
    }
   ],
   "source": [
    "from sklearn.ensemble import GradientBoostingRegressor\n",
    "\n",
    "grad = GradientBoostingRegressor(n_estimators=5, random_state = 10)\n",
    "grad.fit(X_train, Y_train)"
   ]
  },
  {
   "cell_type": "code",
   "execution_count": 110,
   "metadata": {},
   "outputs": [
    {
     "name": "stdout",
     "output_type": "stream",
     "text": [
      "Средняя абсолютная ошибка: 6237.423903812472\n",
      "Средняя квадратичная ошибка: 65283061.76832604\n",
      "Median absolute error: 5067.817331876842\n",
      "Коэффициент детерминации: 0.5853319541495026\n"
     ]
    }
   ],
   "source": [
    "Y_grad_pred = grad.predict(X_test)\n",
    "print('Средняя абсолютная ошибка:',mean_absolute_error(Y_test, Y_grad_pred))\n",
    "print('Средняя квадратичная ошибка:',mean_squared_error(Y_test, Y_grad_pred))\n",
    "print('Median absolute error:',median_absolute_error(Y_test, Y_grad_pred))\n",
    "print('Коэффициент детерминации:',r2_score(Y_test, Y_grad_pred))"
   ]
  },
  {
   "cell_type": "code",
   "execution_count": 111,
   "metadata": {},
   "outputs": [
    {
     "data": {
      "image/png": "[encoded data removed]",
      "text/plain": [
       "<Figure size 432x288 with 1 Axes>"
      ]
     },
     "metadata": {},
     "output_type": "display_data"
    }
   ],
   "source": [
    "plt.scatter(X_test.age, Y_test, marker = 'o', label = 'Тестовая выборка')\n",
    "plt.scatter(X_test.age, Y_grad_pred, marker = '.', label = 'Предсказанные данные')\n",
    "plt.legend(loc = 'lower right')\n",
    "plt.xlabel('Возраст')\n",
    "plt.ylabel('Целевой признак')\n",
    "plt.show()"
   ]
  },
  {
   "cell_type": "markdown",
   "metadata": {},
   "source": [
    "Без подбора гиперпараметров ансамбль работает намного хуже, чем случайный лес.\n",
    "\n",
    "Применим кросс-валидацию."
   ]
  },
  {
   "cell_type": "code",
   "execution_count": 112,
   "metadata": {},
   "outputs": [
    {
     "data": {
      "text/plain": [
       "GridSearchCV(cv=3, error_score='raise-deprecating',\n",
       "             estimator=GradientBoostingRegressor(alpha=0.9,\n",
       "                                                 criterion='friedman_mse',\n",
       "                                                 init=None, learning_rate=0.1,\n",
       "                                                 loss='ls', max_depth=3,\n",
       "                                                 max_features=None,\n",
       "                                                 max_leaf_nodes=None,\n",
       "                                                 min_impurity_decrease=0.0,\n",
       "                                                 min_impurity_split=None,\n",
       "                                                 min_samples_leaf=1,\n",
       "                                                 min_samples_split=2,\n",
       "                                                 min_weight_fraction_leaf=0.0,\n",
       "                                                 n_estimators=100,\n",
       "                                                 n_iter...\n",
       "                                                 random_state=10, subsample=1.0,\n",
       "                                                 tol=0.0001,\n",
       "                                                 validation_fraction=0.1,\n",
       "                                                 verbose=0, warm_start=False),\n",
       "             iid='warn', n_jobs=-1,\n",
       "             param_grid={'max_features': [0.2, 0.3, 0.4, 0.6, 0.8, 0.9, 1.0],\n",
       "                         'min_samples_leaf': [0.01, 0.04, 0.06, 0.08, 0.1],\n",
       "                         'n_estimators': [1, 2, 3, 4, 5, 6, 7, 8, 9, 10, 15, 20,\n",
       "                                          25, 50, 75, 100]},\n",
       "             pre_dispatch='2*n_jobs', refit=True, return_train_score=False,\n",
       "             scoring='neg_mean_squared_error', verbose=0)"
      ]
     },
     "execution_count": 112,
     "metadata": {},
     "output_type": "execute_result"
    }
   ],
   "source": [
    "params = {\n",
    "    'n_estimators': [1, 2, 3, 4, 5, 6, 7, 8, 9, 10, 15, 20, 25, 50, 75, 100],\n",
    "    'max_features': [0.2, 0.3, 0.4, 0.6, 0.8, 0.9, 1.0],\n",
    "    'min_samples_leaf': [0.01, 0.04, 0.06, 0.08, 0.1]\n",
    "}\n",
    "\n",
    "grid_gr = GridSearchCV(estimator=GradientBoostingRegressor(random_state=10),\n",
    "                    param_grid=params, scoring='neg_mean_squared_error', cv=3, n_jobs=-1)\n",
    "grid_gr.fit(X, Y)"
   ]
  },
  {
   "cell_type": "code",
   "execution_count": 113,
   "metadata": {},
   "outputs": [
    {
     "name": "stdout",
     "output_type": "stream",
     "text": [
      "Лучший показатель средней квадратичной ошибки: 20349467.277887657\n",
      "Параметры для данного показателя:\n",
      " {'max_features': 1.0, 'min_samples_leaf': 0.04, 'n_estimators': 50}\n"
     ]
    }
   ],
   "source": [
    "print('Лучший показатель средней квадратичной ошибки:',-grid_gr.best_score_)\n",
    "print('Параметры для данного показателя:\\n',grid_gr.best_params_)"
   ]
  },
  {
   "cell_type": "markdown",
   "metadata": {},
   "source": [
    "Построим ансамбль по найденным лучшим параметрам:"
   ]
  },
  {
   "cell_type": "code",
   "execution_count": 114,
   "metadata": {},
   "outputs": [
    {
     "name": "stdout",
     "output_type": "stream",
     "text": [
      "Средняя абсолютная ошибка: 2489.7851352978873\n",
      "Средняя квадратичная ошибка: 15250659.2631103\n",
      "Median absolute error: 1833.2754693185348\n",
      "Коэффициент детерминации: 0.9031301396829707\n"
     ]
    }
   ],
   "source": [
    "grad1 = GradientBoostingRegressor(n_estimators=50, max_features = 1.0, \n",
    "                                 min_samples_leaf = 0.04, random_state = 10)\n",
    "grad1.fit(X_train, Y_train)\n",
    "Y_grad_pred1 = grad1.predict(X_test)\n",
    "print('Средняя абсолютная ошибка:',mean_absolute_error(Y_test, Y_grad_pred1))\n",
    "print('Средняя квадратичная ошибка:',mean_squared_error(Y_test, Y_grad_pred1))\n",
    "print('Median absolute error:',median_absolute_error(Y_test, Y_grad_pred1))\n",
    "print('Коэффициент детерминации:',r2_score(Y_test, Y_grad_pred1))"
   ]
  },
  {
   "cell_type": "code",
   "execution_count": 115,
   "metadata": {},
   "outputs": [
    {
     "data": {
      "image/png": "[encoded data removed]",
      "text/plain": [
       "<Figure size 432x288 with 1 Axes>"
      ]
     },
     "metadata": {},
     "output_type": "display_data"
    }
   ],
   "source": [
    "plt.scatter(X_test.age, Y_test, marker = 'o', label = 'Тестовая выборка')\n",
    "plt.scatter(X_test.age, Y_grad_pred1, marker = '.', label = 'Предсказанные данные')\n",
    "plt.legend(loc = 'lower right')\n",
    "plt.xlabel('Возраст')\n",
    "plt.ylabel('Целевой признак')\n",
    "plt.show()"
   ]
  },
  {
   "cell_type": "markdown",
   "metadata": {},
   "source": [
    "Показатели действительно значительно улучшились. Однако заметно расхождение между предсказанными данными и тестовой выборкой.\n",
    "\n",
    "Попробуем провести кросс-валидацию без учета `min_samples_leaf`."
   ]
  },
  {
   "cell_type": "code",
   "execution_count": 116,
   "metadata": {},
   "outputs": [
    {
     "name": "stdout",
     "output_type": "stream",
     "text": [
      "Лучший показатель средней квадратичной ошибки: 20517355.12930149\n",
      "Параметры для данного показателя:\n",
      " {'max_features': 0.9, 'n_estimators': 50}\n"
     ]
    }
   ],
   "source": [
    "params1 = {\n",
    "    'n_estimators': [1, 2, 3, 4, 5, 6, 7, 8, 9, 10, 15, 20, 25, 50, 75, 100],\n",
    "    'max_features': [0.2, 0.3, 0.4, 0.6, 0.8, 0.9, 1.0]\n",
    "}\n",
    "\n",
    "grid_gr1 = GridSearchCV(estimator=GradientBoostingRegressor(random_state=10),\n",
    "                    param_grid=params1, scoring='neg_mean_squared_error', cv=3, n_jobs=-1)\n",
    "grid_gr1.fit(X, Y)\n",
    "print('Лучший показатель средней квадратичной ошибки:',-grid_gr1.best_score_)\n",
    "print('Параметры для данного показателя:\\n',grid_gr1.best_params_)"
   ]
  },
  {
   "cell_type": "code",
   "execution_count": 117,
   "metadata": {},
   "outputs": [
    {
     "name": "stdout",
     "output_type": "stream",
     "text": [
      "Средняя абсолютная ошибка: 2470.7720837116653\n",
      "Средняя квадратичная ошибка: 15459011.127629893\n",
      "Median absolute error: 1750.6903244693658\n",
      "Коэффициент детерминации: 0.9018067204350156\n"
     ]
    }
   ],
   "source": [
    "grad2 = GradientBoostingRegressor(n_estimators=50, max_features = 0.9,\n",
    "                                  random_state = 10)\n",
    "grad2.fit(X_train, Y_train)\n",
    "Y_grad_pred2 = grad2.predict(X_test)\n",
    "print('Средняя абсолютная ошибка:',mean_absolute_error(Y_test, Y_grad_pred2))\n",
    "print('Средняя квадратичная ошибка:',mean_squared_error(Y_test, Y_grad_pred2))\n",
    "print('Median absolute error:',median_absolute_error(Y_test, Y_grad_pred2))\n",
    "print('Коэффициент детерминации:',r2_score(Y_test, Y_grad_pred2))"
   ]
  },
  {
   "cell_type": "code",
   "execution_count": 118,
   "metadata": {},
   "outputs": [
    {
     "data": {
      "image/png": "[encoded data removed]",
      "text/plain": [
       "<Figure size 432x288 with 1 Axes>"
      ]
     },
     "metadata": {},
     "output_type": "display_data"
    }
   ],
   "source": [
    "plt.scatter(X_test.age, Y_test, marker = 'o', label = 'Тестовая выборка')\n",
    "plt.scatter(X_test.age, Y_grad_pred2, marker = '.', label = 'Предсказанные данные')\n",
    "plt.legend(loc = 'lower right')\n",
    "plt.xlabel('Возраст')\n",
    "plt.ylabel('Целевой признак')\n",
    "plt.show()"
   ]
  },
  {
   "cell_type": "markdown",
   "metadata": {},
   "source": [
    "Новый ансамбль ведет себя практически так же."
   ]
  },
  {
   "cell_type": "markdown",
   "metadata": {},
   "source": [
    "# Выводы"
   ]
  },
  {
   "cell_type": "markdown",
   "metadata": {},
   "source": [
    "Лучше себя показал метод случайного леса. Показатель детерминации достигнул 0.98. Оценки ошибок все равно оставались не очень хорошими, но на графике было видно хорошее качество обучения."
   ]
  }
 ],
 "metadata": {
  "kernelspec": {
   "display_name": "Python 3",
   "language": "python",
   "name": "python3"
  },
  "language_info": {
   "codemirror_mode": {
    "name": "ipython",
    "version": 3
   },
   "file_extension": ".py",
   "mimetype": "text/x-python",
   "name": "python",
   "nbconvert_exporter": "python",
   "pygments_lexer": "ipython3",
   "version": "3.7.4"
  }
 },
 "nbformat": 4,
 "nbformat_minor": 2
}
