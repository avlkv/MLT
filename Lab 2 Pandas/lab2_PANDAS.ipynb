{
 "cells": [
  {
   "cell_type": "markdown",
   "metadata": {},
   "source": [
    "# <center> Assignment #1 (demo)\n",
    "## <center>  Exploratory data analysis with Pandas\n",
    "\n",
    "\n",
    "**Same assignment as a [Kaggle Kernel](https://www.kaggle.com/kashnitsky/a1-demo-pandas-and-uci-adult-dataset) + [solution](https://www.kaggle.com/kashnitsky/a1-demo-pandas-and-uci-adult-dataset-solution).**"
   ]
  },
  {
   "cell_type": "markdown",
   "metadata": {},
   "source": [
    "**In this task you should use Pandas to answer a few questions about the [Adult](https://archive.ics.uci.edu/ml/datasets/Adult) dataset. (You don't have to download the data – it's already  in the repository). Choose the answers in the [web-form](https://docs.google.com/forms/d/1uY7MpI2trKx6FLWZte0uVh3ULV4Cm_tDud0VDFGCOKg).**"
   ]
  },
  {
   "cell_type": "markdown",
   "metadata": {},
   "source": [
    "Unique values of all features (for more information, please see the links above):\n",
    "- `age`: continuous.\n",
    "- `workclass`: Private, Self-emp-not-inc, Self-emp-inc, Federal-gov, Local-gov, State-gov, Without-pay, Never-worked.\n",
    "- `fnlwgt`: continuous.\n",
    "- `education`: Bachelors, Some-college, 11th, HS-grad, Prof-school, Assoc-acdm, Assoc-voc, 9th, 7th-8th, 12th, Masters, 1st-4th, 10th, Doctorate, 5th-6th, Preschool.\n",
    "- `education-num`: continuous.\n",
    "- `marital-status`: Married-civ-spouse, Divorced, Never-married, Separated, Widowed, Married-spouse-absent, Married-AF-spouse.\n",
    "- `occupation`: Tech-support, Craft-repair, Other-service, Sales, Exec-managerial, Prof-specialty, Handlers-cleaners, Machine-op-inspct, Adm-clerical, Farming-fishing, Transport-moving, Priv-house-serv, Protective-serv, Armed-Forces.\n",
    "- `relationship`: Wife, Own-child, Husband, Not-in-family, Other-relative, Unmarried.\n",
    "- `race`: White, Asian-Pac-Islander, Amer-Indian-Eskimo, Other, Black.\n",
    "- `sex`: Female, Male.\n",
    "- `capital-gain`: continuous.\n",
    "- `capital-loss`: continuous.\n",
    "- `hours-per-week`: continuous.\n",
    "- `native-country`: United-States, Cambodia, England, Puerto-Rico, Canada, Germany, Outlying-US(Guam-USVI-etc), India, Japan, Greece, South, China, Cuba, Iran, Honduras, Philippines, Italy, Poland, Jamaica, Vietnam, Mexico, Portugal, Ireland, France, Dominican-Republic, Laos, Ecuador, Taiwan, Haiti, Columbia, Hungary, Guatemala, Nicaragua, Scotland, Thailand, Yugoslavia, El-Salvador, Trinadad&Tobago, Peru, Hong, Holand-Netherlands.   \n",
    "- `salary`: >50K,<=50K"
   ]
  },
  {
   "cell_type": "code",
   "execution_count": 2,
   "metadata": {},
   "outputs": [],
   "source": [
    "import numpy as np\n",
    "import pandas as pd\n",
    "pd.set_option('display.max.columns', 100)\n",
    "# to draw pictures in jupyter notebook\n",
    "%matplotlib inline \n",
    "import matplotlib.pyplot as plt\n",
    "import seaborn as sns\n",
    "# we don't like warnings\n",
    "# you can comment the following 2 lines if you'd like to\n",
    "import warnings\n",
    "warnings.filterwarnings('ignore')"
   ]
  },
  {
   "cell_type": "code",
   "execution_count": 3,
   "metadata": {},
   "outputs": [
    {
     "data": {
      "text/html": [
       "<div>\n",
       "<style scoped>\n",
       "    .dataframe tbody tr th:only-of-type {\n",
       "        vertical-align: middle;\n",
       "    }\n",
       "\n",
       "    .dataframe tbody tr th {\n",
       "        vertical-align: top;\n",
       "    }\n",
       "\n",
       "    .dataframe thead th {\n",
       "        text-align: right;\n",
       "    }\n",
       "</style>\n",
       "<table border=\"1\" class=\"dataframe\">\n",
       "  <thead>\n",
       "    <tr style=\"text-align: right;\">\n",
       "      <th></th>\n",
       "      <th>age</th>\n",
       "      <th>workclass</th>\n",
       "      <th>fnlwgt</th>\n",
       "      <th>education</th>\n",
       "      <th>education-num</th>\n",
       "      <th>marital-status</th>\n",
       "      <th>occupation</th>\n",
       "      <th>relationship</th>\n",
       "      <th>race</th>\n",
       "      <th>sex</th>\n",
       "      <th>capital-gain</th>\n",
       "      <th>capital-loss</th>\n",
       "      <th>hours-per-week</th>\n",
       "      <th>native-country</th>\n",
       "      <th>salary</th>\n",
       "    </tr>\n",
       "  </thead>\n",
       "  <tbody>\n",
       "    <tr>\n",
       "      <td>0</td>\n",
       "      <td>39</td>\n",
       "      <td>State-gov</td>\n",
       "      <td>77516</td>\n",
       "      <td>Bachelors</td>\n",
       "      <td>13</td>\n",
       "      <td>Never-married</td>\n",
       "      <td>Adm-clerical</td>\n",
       "      <td>Not-in-family</td>\n",
       "      <td>White</td>\n",
       "      <td>Male</td>\n",
       "      <td>2174</td>\n",
       "      <td>0</td>\n",
       "      <td>40</td>\n",
       "      <td>United-States</td>\n",
       "      <td>&lt;=50K</td>\n",
       "    </tr>\n",
       "    <tr>\n",
       "      <td>1</td>\n",
       "      <td>50</td>\n",
       "      <td>Self-emp-not-inc</td>\n",
       "      <td>83311</td>\n",
       "      <td>Bachelors</td>\n",
       "      <td>13</td>\n",
       "      <td>Married-civ-spouse</td>\n",
       "      <td>Exec-managerial</td>\n",
       "      <td>Husband</td>\n",
       "      <td>White</td>\n",
       "      <td>Male</td>\n",
       "      <td>0</td>\n",
       "      <td>0</td>\n",
       "      <td>13</td>\n",
       "      <td>United-States</td>\n",
       "      <td>&lt;=50K</td>\n",
       "    </tr>\n",
       "    <tr>\n",
       "      <td>2</td>\n",
       "      <td>38</td>\n",
       "      <td>Private</td>\n",
       "      <td>215646</td>\n",
       "      <td>HS-grad</td>\n",
       "      <td>9</td>\n",
       "      <td>Divorced</td>\n",
       "      <td>Handlers-cleaners</td>\n",
       "      <td>Not-in-family</td>\n",
       "      <td>White</td>\n",
       "      <td>Male</td>\n",
       "      <td>0</td>\n",
       "      <td>0</td>\n",
       "      <td>40</td>\n",
       "      <td>United-States</td>\n",
       "      <td>&lt;=50K</td>\n",
       "    </tr>\n",
       "    <tr>\n",
       "      <td>3</td>\n",
       "      <td>53</td>\n",
       "      <td>Private</td>\n",
       "      <td>234721</td>\n",
       "      <td>11th</td>\n",
       "      <td>7</td>\n",
       "      <td>Married-civ-spouse</td>\n",
       "      <td>Handlers-cleaners</td>\n",
       "      <td>Husband</td>\n",
       "      <td>Black</td>\n",
       "      <td>Male</td>\n",
       "      <td>0</td>\n",
       "      <td>0</td>\n",
       "      <td>40</td>\n",
       "      <td>United-States</td>\n",
       "      <td>&lt;=50K</td>\n",
       "    </tr>\n",
       "    <tr>\n",
       "      <td>4</td>\n",
       "      <td>28</td>\n",
       "      <td>Private</td>\n",
       "      <td>338409</td>\n",
       "      <td>Bachelors</td>\n",
       "      <td>13</td>\n",
       "      <td>Married-civ-spouse</td>\n",
       "      <td>Prof-specialty</td>\n",
       "      <td>Wife</td>\n",
       "      <td>Black</td>\n",
       "      <td>Female</td>\n",
       "      <td>0</td>\n",
       "      <td>0</td>\n",
       "      <td>40</td>\n",
       "      <td>Cuba</td>\n",
       "      <td>&lt;=50K</td>\n",
       "    </tr>\n",
       "  </tbody>\n",
       "</table>\n",
       "</div>"
      ],
      "text/plain": [
       "   age         workclass  fnlwgt  education  education-num  \\\n",
       "0   39         State-gov   77516  Bachelors             13   \n",
       "1   50  Self-emp-not-inc   83311  Bachelors             13   \n",
       "2   38           Private  215646    HS-grad              9   \n",
       "3   53           Private  234721       11th              7   \n",
       "4   28           Private  338409  Bachelors             13   \n",
       "\n",
       "       marital-status         occupation   relationship   race     sex  \\\n",
       "0       Never-married       Adm-clerical  Not-in-family  White    Male   \n",
       "1  Married-civ-spouse    Exec-managerial        Husband  White    Male   \n",
       "2            Divorced  Handlers-cleaners  Not-in-family  White    Male   \n",
       "3  Married-civ-spouse  Handlers-cleaners        Husband  Black    Male   \n",
       "4  Married-civ-spouse     Prof-specialty           Wife  Black  Female   \n",
       "\n",
       "   capital-gain  capital-loss  hours-per-week native-country salary  \n",
       "0          2174             0              40  United-States  <=50K  \n",
       "1             0             0              13  United-States  <=50K  \n",
       "2             0             0              40  United-States  <=50K  \n",
       "3             0             0              40  United-States  <=50K  \n",
       "4             0             0              40           Cuba  <=50K  "
      ]
     },
     "execution_count": 3,
     "metadata": {},
     "output_type": "execute_result"
    }
   ],
   "source": [
    "data = pd.read_csv('../data/adult.data.csv')\n",
    "data.head()"
   ]
  },
  {
   "cell_type": "markdown",
   "metadata": {},
   "source": [
    "**1. How many men and women (*sex* feature) are represented in this dataset?** "
   ]
  },
  {
   "cell_type": "code",
   "execution_count": 4,
   "metadata": {},
   "outputs": [
    {
     "data": {
      "text/plain": [
       "Male      21790\n",
       "Female    10771\n",
       "Name: sex, dtype: int64"
      ]
     },
     "execution_count": 4,
     "metadata": {},
     "output_type": "execute_result"
    }
   ],
   "source": [
    "data['sex'].value_counts()"
   ]
  },
  {
   "cell_type": "markdown",
   "metadata": {},
   "source": [
    "**2. What is the average age (*age* feature) of women?**"
   ]
  },
  {
   "cell_type": "code",
   "execution_count": 5,
   "metadata": {},
   "outputs": [
    {
     "name": "stdout",
     "output_type": "stream",
     "text": [
      "37\n"
     ]
    }
   ],
   "source": [
    "print(round(float(data.loc[data['sex']=='Female', ['age']].mean())))"
   ]
  },
  {
   "cell_type": "markdown",
   "metadata": {},
   "source": [
    "**3. What is the percentage of German citizens (*native-country* feature)?**"
   ]
  },
  {
   "cell_type": "code",
   "execution_count": 6,
   "metadata": {},
   "outputs": [
    {
     "name": "stdout",
     "output_type": "stream",
     "text": [
      "0.42 %\n"
     ]
    }
   ],
   "source": [
    "print(round(float(data.loc[data['native-country']=='Germany', ['native-country']].count()/data['native-country'].count()*100),2),'%')"
   ]
  },
  {
   "cell_type": "markdown",
   "metadata": {},
   "source": [
    "**4-5. What are the mean and standard deviation of age for those who earn more than 50K per year (*salary* feature) and those who earn less than 50K per year?**"
   ]
  },
  {
   "cell_type": "code",
   "execution_count": 7,
   "metadata": {},
   "outputs": [
    {
     "name": "stdout",
     "output_type": "stream",
     "text": [
      "Standard deviation for those who earn <=50K : 14.020088490824813\n",
      "Mean deviation for those who earn <=50K : 11.467855024821914\n",
      "Standard deviation for those who earn >50K : 10.519027719851785\n",
      "Mean deviation for those who earn >50K : 8.47674579194268\n"
     ]
    }
   ],
   "source": [
    "print('Standard deviation for those who earn <=50K :',float(data.loc[data['salary']=='<=50K', ['age']].std())) #std <=50\n",
    "print('Mean deviation for those who earn <=50K :',float(data.loc[data['salary']=='<=50K', ['age']].mad())) #mad <=50\n",
    "print('Standard deviation for those who earn >50K :',float(data.loc[data['salary']=='>50K', ['age']].std())) #std >50\n",
    "print('Mean deviation for those who earn >50K :',float(data.loc[data['salary']=='>50K', ['age']].mad())) #mad >50"
   ]
  },
  {
   "cell_type": "markdown",
   "metadata": {},
   "source": [
    "**6. Is it true that people who earn more than 50K have at least high school education? (*education – Bachelors, Prof-school, Assoc-acdm, Assoc-voc, Masters* or *Doctorate* feature)**"
   ]
  },
  {
   "cell_type": "code",
   "execution_count": 8,
   "metadata": {},
   "outputs": [
    {
     "name": "stdout",
     "output_type": "stream",
     "text": [
      "False\n"
     ]
    }
   ],
   "source": [
    "highEduList = ['Bachelors','Prof-school','Assoc-acdm','Assoc-voc','Masters','Doctorate']\n",
    "dataList = list(data.loc[data['salary'] == '>50K', 'education'].unique())\n",
    "fl = True;\n",
    "for a in dataList:\n",
    "    for b in highEduList:\n",
    "        if a==b:\n",
    "            fl = True;\n",
    "            break;\n",
    "        if a!=b:\n",
    "            fl = False;\n",
    "print(fl);"
   ]
  },
  {
   "cell_type": "markdown",
   "metadata": {},
   "source": [
    "**7. Display age statistics for each race (*race* feature) and each gender (*sex* feature). Use *groupby()* and *describe()*. Find the maximum age of men of *Amer-Indian-Eskimo* race.**\n",
    "\n",
    "**Solution 1** without using groupby()"
   ]
  },
  {
   "cell_type": "code",
   "execution_count": 9,
   "metadata": {},
   "outputs": [
    {
     "name": "stdout",
     "output_type": "stream",
     "text": [
      "White:\n",
      "                age\n",
      "count  27816.000000\n",
      "mean      38.769881\n",
      "std       13.782306\n",
      "min       17.000000\n",
      "25%       28.000000\n",
      "50%       37.000000\n",
      "75%       48.000000\n",
      "max       90.000000\n",
      "-------------------\n",
      "Black:\n",
      "               age\n",
      "count  3124.000000\n",
      "mean     37.767926\n",
      "std      12.759290\n",
      "min      17.000000\n",
      "25%      28.000000\n",
      "50%      36.000000\n",
      "75%      46.000000\n",
      "max      90.000000\n",
      "-------------------\n",
      "Asian-Pac-Islander:\n",
      "               age\n",
      "count  1039.000000\n",
      "mean     37.746872\n",
      "std      12.825133\n",
      "min      17.000000\n",
      "25%      28.000000\n",
      "50%      36.000000\n",
      "75%      45.000000\n",
      "max      90.000000\n",
      "-------------------\n",
      "Amer-Indian-Eskimo:\n",
      "              age\n",
      "count  311.000000\n",
      "mean    37.173633\n",
      "std     12.447130\n",
      "min     17.000000\n",
      "25%     28.000000\n",
      "50%     35.000000\n",
      "75%     45.500000\n",
      "max     82.000000\n",
      "-------------------\n",
      "Other:\n",
      "              age\n",
      "count  271.000000\n",
      "mean    33.457565\n",
      "std     11.538865\n",
      "min     17.000000\n",
      "25%     25.000000\n",
      "50%     31.000000\n",
      "75%     41.000000\n",
      "max     77.000000\n",
      "-------------------\n",
      "Male:\n",
      "                age\n",
      "count  21790.000000\n",
      "mean      39.433547\n",
      "std       13.370630\n",
      "min       17.000000\n",
      "25%       29.000000\n",
      "50%       38.000000\n",
      "75%       48.000000\n",
      "max       90.000000\n",
      "-------------------\n",
      "Female:\n",
      "                age\n",
      "count  10771.000000\n",
      "mean      36.858230\n",
      "std       14.013697\n",
      "min       17.000000\n",
      "25%       25.000000\n",
      "50%       35.000000\n",
      "75%       46.000000\n",
      "max       90.000000\n",
      "-------------------\n"
     ]
    }
   ],
   "source": [
    "raceList = list(data['race'].unique())\n",
    "genderList = list(data['sex'].unique())\n",
    "for race in raceList:\n",
    "    print(race,':',sep='')\n",
    "    print(data.loc[data['race'] == race, ['age']].describe())\n",
    "    print('-------------------')\n",
    "for gender in genderList:\n",
    "    print(gender,':',sep='')\n",
    "    print(data.loc[data['sex'] == gender, ['age']].describe())\n",
    "    print('-------------------')"
   ]
  },
  {
   "cell_type": "markdown",
   "metadata": {},
   "source": [
    "**Solution2** using groupby()"
   ]
  },
  {
   "cell_type": "code",
   "execution_count": 10,
   "metadata": {},
   "outputs": [
    {
     "data": {
      "text/html": [
       "<div>\n",
       "<style scoped>\n",
       "    .dataframe tbody tr th:only-of-type {\n",
       "        vertical-align: middle;\n",
       "    }\n",
       "\n",
       "    .dataframe tbody tr th {\n",
       "        vertical-align: top;\n",
       "    }\n",
       "\n",
       "    .dataframe thead th {\n",
       "        text-align: right;\n",
       "    }\n",
       "</style>\n",
       "<table border=\"1\" class=\"dataframe\">\n",
       "  <thead>\n",
       "    <tr style=\"text-align: right;\">\n",
       "      <th></th>\n",
       "      <th></th>\n",
       "      <th>count</th>\n",
       "      <th>mean</th>\n",
       "      <th>std</th>\n",
       "      <th>min</th>\n",
       "      <th>25%</th>\n",
       "      <th>50%</th>\n",
       "      <th>75%</th>\n",
       "      <th>max</th>\n",
       "    </tr>\n",
       "    <tr>\n",
       "      <th>race</th>\n",
       "      <th>sex</th>\n",
       "      <th></th>\n",
       "      <th></th>\n",
       "      <th></th>\n",
       "      <th></th>\n",
       "      <th></th>\n",
       "      <th></th>\n",
       "      <th></th>\n",
       "      <th></th>\n",
       "    </tr>\n",
       "  </thead>\n",
       "  <tbody>\n",
       "    <tr>\n",
       "      <td rowspan=\"2\" valign=\"top\">Amer-Indian-Eskimo</td>\n",
       "      <td>Female</td>\n",
       "      <td>119.0</td>\n",
       "      <td>37.117647</td>\n",
       "      <td>13.114991</td>\n",
       "      <td>17.0</td>\n",
       "      <td>27.0</td>\n",
       "      <td>36.0</td>\n",
       "      <td>46.00</td>\n",
       "      <td>80.0</td>\n",
       "    </tr>\n",
       "    <tr>\n",
       "      <td>Male</td>\n",
       "      <td>192.0</td>\n",
       "      <td>37.208333</td>\n",
       "      <td>12.049563</td>\n",
       "      <td>17.0</td>\n",
       "      <td>28.0</td>\n",
       "      <td>35.0</td>\n",
       "      <td>45.00</td>\n",
       "      <td>82.0</td>\n",
       "    </tr>\n",
       "    <tr>\n",
       "      <td rowspan=\"2\" valign=\"top\">Asian-Pac-Islander</td>\n",
       "      <td>Female</td>\n",
       "      <td>346.0</td>\n",
       "      <td>35.089595</td>\n",
       "      <td>12.300845</td>\n",
       "      <td>17.0</td>\n",
       "      <td>25.0</td>\n",
       "      <td>33.0</td>\n",
       "      <td>43.75</td>\n",
       "      <td>75.0</td>\n",
       "    </tr>\n",
       "    <tr>\n",
       "      <td>Male</td>\n",
       "      <td>693.0</td>\n",
       "      <td>39.073593</td>\n",
       "      <td>12.883944</td>\n",
       "      <td>18.0</td>\n",
       "      <td>29.0</td>\n",
       "      <td>37.0</td>\n",
       "      <td>46.00</td>\n",
       "      <td>90.0</td>\n",
       "    </tr>\n",
       "    <tr>\n",
       "      <td rowspan=\"2\" valign=\"top\">Black</td>\n",
       "      <td>Female</td>\n",
       "      <td>1555.0</td>\n",
       "      <td>37.854019</td>\n",
       "      <td>12.637197</td>\n",
       "      <td>17.0</td>\n",
       "      <td>28.0</td>\n",
       "      <td>37.0</td>\n",
       "      <td>46.00</td>\n",
       "      <td>90.0</td>\n",
       "    </tr>\n",
       "    <tr>\n",
       "      <td>Male</td>\n",
       "      <td>1569.0</td>\n",
       "      <td>37.682600</td>\n",
       "      <td>12.882612</td>\n",
       "      <td>17.0</td>\n",
       "      <td>27.0</td>\n",
       "      <td>36.0</td>\n",
       "      <td>46.00</td>\n",
       "      <td>90.0</td>\n",
       "    </tr>\n",
       "    <tr>\n",
       "      <td rowspan=\"2\" valign=\"top\">Other</td>\n",
       "      <td>Female</td>\n",
       "      <td>109.0</td>\n",
       "      <td>31.678899</td>\n",
       "      <td>11.631599</td>\n",
       "      <td>17.0</td>\n",
       "      <td>23.0</td>\n",
       "      <td>29.0</td>\n",
       "      <td>39.00</td>\n",
       "      <td>74.0</td>\n",
       "    </tr>\n",
       "    <tr>\n",
       "      <td>Male</td>\n",
       "      <td>162.0</td>\n",
       "      <td>34.654321</td>\n",
       "      <td>11.355531</td>\n",
       "      <td>17.0</td>\n",
       "      <td>26.0</td>\n",
       "      <td>32.0</td>\n",
       "      <td>42.00</td>\n",
       "      <td>77.0</td>\n",
       "    </tr>\n",
       "    <tr>\n",
       "      <td rowspan=\"2\" valign=\"top\">White</td>\n",
       "      <td>Female</td>\n",
       "      <td>8642.0</td>\n",
       "      <td>36.811618</td>\n",
       "      <td>14.329093</td>\n",
       "      <td>17.0</td>\n",
       "      <td>25.0</td>\n",
       "      <td>35.0</td>\n",
       "      <td>46.00</td>\n",
       "      <td>90.0</td>\n",
       "    </tr>\n",
       "    <tr>\n",
       "      <td>Male</td>\n",
       "      <td>19174.0</td>\n",
       "      <td>39.652498</td>\n",
       "      <td>13.436029</td>\n",
       "      <td>17.0</td>\n",
       "      <td>29.0</td>\n",
       "      <td>38.0</td>\n",
       "      <td>49.00</td>\n",
       "      <td>90.0</td>\n",
       "    </tr>\n",
       "  </tbody>\n",
       "</table>\n",
       "</div>"
      ],
      "text/plain": [
       "                             count       mean        std   min   25%   50%  \\\n",
       "race               sex                                                       \n",
       "Amer-Indian-Eskimo Female    119.0  37.117647  13.114991  17.0  27.0  36.0   \n",
       "                   Male      192.0  37.208333  12.049563  17.0  28.0  35.0   \n",
       "Asian-Pac-Islander Female    346.0  35.089595  12.300845  17.0  25.0  33.0   \n",
       "                   Male      693.0  39.073593  12.883944  18.0  29.0  37.0   \n",
       "Black              Female   1555.0  37.854019  12.637197  17.0  28.0  37.0   \n",
       "                   Male     1569.0  37.682600  12.882612  17.0  27.0  36.0   \n",
       "Other              Female    109.0  31.678899  11.631599  17.0  23.0  29.0   \n",
       "                   Male      162.0  34.654321  11.355531  17.0  26.0  32.0   \n",
       "White              Female   8642.0  36.811618  14.329093  17.0  25.0  35.0   \n",
       "                   Male    19174.0  39.652498  13.436029  17.0  29.0  38.0   \n",
       "\n",
       "                             75%   max  \n",
       "race               sex                  \n",
       "Amer-Indian-Eskimo Female  46.00  80.0  \n",
       "                   Male    45.00  82.0  \n",
       "Asian-Pac-Islander Female  43.75  75.0  \n",
       "                   Male    46.00  90.0  \n",
       "Black              Female  46.00  90.0  \n",
       "                   Male    46.00  90.0  \n",
       "Other              Female  39.00  74.0  \n",
       "                   Male    42.00  77.0  \n",
       "White              Female  46.00  90.0  \n",
       "                   Male    49.00  90.0  "
      ]
     },
     "execution_count": 10,
     "metadata": {},
     "output_type": "execute_result"
    }
   ],
   "source": [
    "data.groupby(['race', 'sex'])['age'].describe()"
   ]
  },
  {
   "cell_type": "markdown",
   "metadata": {},
   "source": [
    "**The maximum age of men of Amer-Indian-Eskimo race:**"
   ]
  },
  {
   "cell_type": "code",
   "execution_count": 11,
   "metadata": {},
   "outputs": [
    {
     "name": "stdout",
     "output_type": "stream",
     "text": [
      "82\n"
     ]
    }
   ],
   "source": [
    "raceAIEdata = data.loc[data['race'] == 'Amer-Indian-Eskimo']\n",
    "print(int(raceAIEdata.loc[data['sex']=='Male', ['age']].max()))"
   ]
  },
  {
   "cell_type": "markdown",
   "metadata": {},
   "source": [
    "**8. Among whom is the proportion of those who earn a lot (>50K) greater: married or single men (*marital-status* feature)? Consider as married those who have a *marital-status* starting with *Married* (Married-civ-spouse, Married-spouse-absent or Married-AF-spouse), the rest are considered bachelors.**"
   ]
  },
  {
   "cell_type": "code",
   "execution_count": 31,
   "metadata": {},
   "outputs": [
    {
     "name": "stdout",
     "output_type": "stream",
     "text": [
      "Among married men\n",
      "Proportion among single men: 0.08449509031397745\n",
      "Proportion among married men: 0.4405139945351156\n"
     ]
    }
   ],
   "source": [
    "maleData = data.loc[data['sex'] == 'Male']\n",
    "maleCount = maleData.count()\n",
    "\n",
    "marriedMaleData = maleData.loc[maleData['marital-status'].str.contains('Married'), ['salary']]\n",
    "marriedMaleCount = int(marriedMaleData.count())\n",
    "\n",
    "marriedMale50KData = marriedMaleData.loc[marriedMaleData['salary'] == '>50K']\n",
    "marriedMale50Kcount = int(marriedMale50KData.count())\n",
    "\n",
    "singleMaleData = maleData.loc[~maleData['marital-status'].str.contains('Married'), ['salary']]\n",
    "singleMaleCount = int(singleMaleData.count())\n",
    "\n",
    "singleMale50KData = singleMaleData.loc[singleMaleData['salary'] == '>50K']\n",
    "singleMale50Kcount = int(singleMale50KData.count())\n",
    "\n",
    "singleMale50Kprop = singleMale50Kcount/singleMaleCount\n",
    "marriedMale50Kprop = marriedMale50Kcount/marriedMaleCount\n",
    "if singleMale50Kprop > marriedMale50Kprop:\n",
    "    print('Among single men')\n",
    "else:\n",
    "    print('Among married men')\n",
    "print('Proportion among single men:',singleMale50Kprop)\n",
    "print('Proportion among married men:',marriedMale50Kprop)"
   ]
  },
  {
   "cell_type": "markdown",
   "metadata": {},
   "source": [
    "**9. What is the maximum number of hours a person works per week (*hours-per-week* feature)? How many people work such a number of hours, and what is the percentage of those who earn a lot (>50K) among them?**"
   ]
  },
  {
   "cell_type": "code",
   "execution_count": 47,
   "metadata": {},
   "outputs": [
    {
     "name": "stdout",
     "output_type": "stream",
     "text": [
      "The maximum number of hours a person works per week: 99 \n",
      "\n",
      "85 people work such a number of hours\n",
      "\n",
      "The percentage of those who earn a lot (>50K) among them: 29 %\n"
     ]
    }
   ],
   "source": [
    "maxHours = int(data['hours-per-week'].max())\n",
    "print('The maximum number of hours a person works per week:', maxHours, '\\n')\n",
    "\n",
    "maxHoursSalaryData = data.loc[data['hours-per-week'] == maxHours, ['salary']]\n",
    "print(int(maxHoursSalaryData.count()), 'people work such a number of hours\\n')\n",
    "\n",
    "maxHours50KData = maxHoursSalaryData.loc[maxHoursSalaryData['salary'] == '>50K']\n",
    "print('The percentage of those who earn a lot (>50K) among them:',round(int(maxHours50KData.count())/int(maxHoursSalaryData.count())*100),'%')"
   ]
  },
  {
   "cell_type": "markdown",
   "metadata": {},
   "source": [
    "**10. Count the average time of work (*hours-per-week*) for those who earn a little and a lot (*salary*) for each country (*native-country*). What will these be for Japan?**"
   ]
  },
  {
   "cell_type": "code",
   "execution_count": 57,
   "metadata": {},
   "outputs": [
    {
     "name": "stdout",
     "output_type": "stream",
     "text": [
      "native-country              salary\n",
      "?                           <=50K     40.164760\n",
      "                            >50K      45.547945\n",
      "Cambodia                    <=50K     41.416667\n",
      "                            >50K      40.000000\n",
      "Canada                      <=50K     37.914634\n",
      "                            >50K      45.641026\n",
      "China                       <=50K     37.381818\n",
      "                            >50K      38.900000\n",
      "Columbia                    <=50K     38.684211\n",
      "                            >50K      50.000000\n",
      "Cuba                        <=50K     37.985714\n",
      "                            >50K      42.440000\n",
      "Dominican-Republic          <=50K     42.338235\n",
      "                            >50K      47.000000\n",
      "Ecuador                     <=50K     38.041667\n",
      "                            >50K      48.750000\n",
      "El-Salvador                 <=50K     36.030928\n",
      "                            >50K      45.000000\n",
      "England                     <=50K     40.483333\n",
      "                            >50K      44.533333\n",
      "France                      <=50K     41.058824\n",
      "                            >50K      50.750000\n",
      "Germany                     <=50K     39.139785\n",
      "                            >50K      44.977273\n",
      "Greece                      <=50K     41.809524\n",
      "                            >50K      50.625000\n",
      "Guatemala                   <=50K     39.360656\n",
      "                            >50K      36.666667\n",
      "Haiti                       <=50K     36.325000\n",
      "                            >50K      42.750000\n",
      "Holand-Netherlands          <=50K     40.000000\n",
      "Honduras                    <=50K     34.333333\n",
      "                            >50K      60.000000\n",
      "Hong                        <=50K     39.142857\n",
      "                            >50K      45.000000\n",
      "Hungary                     <=50K     31.300000\n",
      "                            >50K      50.000000\n",
      "India                       <=50K     38.233333\n",
      "                            >50K      46.475000\n",
      "Iran                        <=50K     41.440000\n",
      "                            >50K      47.500000\n",
      "Ireland                     <=50K     40.947368\n",
      "                            >50K      48.000000\n",
      "Italy                       <=50K     39.625000\n",
      "                            >50K      45.400000\n",
      "Jamaica                     <=50K     38.239437\n",
      "                            >50K      41.100000\n",
      "Japan                       <=50K     41.000000\n",
      "                            >50K      47.958333\n",
      "Laos                        <=50K     40.375000\n",
      "                            >50K      40.000000\n",
      "Mexico                      <=50K     40.003279\n",
      "                            >50K      46.575758\n",
      "Nicaragua                   <=50K     36.093750\n",
      "                            >50K      37.500000\n",
      "Outlying-US(Guam-USVI-etc)  <=50K     41.857143\n",
      "Peru                        <=50K     35.068966\n",
      "                            >50K      40.000000\n",
      "Philippines                 <=50K     38.065693\n",
      "                            >50K      43.032787\n",
      "Poland                      <=50K     38.166667\n",
      "                            >50K      39.000000\n",
      "Portugal                    <=50K     41.939394\n",
      "                            >50K      41.500000\n",
      "Puerto-Rico                 <=50K     38.470588\n",
      "                            >50K      39.416667\n",
      "Scotland                    <=50K     39.444444\n",
      "                            >50K      46.666667\n",
      "South                       <=50K     40.156250\n",
      "                            >50K      51.437500\n",
      "Taiwan                      <=50K     33.774194\n",
      "                            >50K      46.800000\n",
      "Thailand                    <=50K     42.866667\n",
      "                            >50K      58.333333\n",
      "Trinadad&Tobago             <=50K     37.058824\n",
      "                            >50K      40.000000\n",
      "United-States               <=50K     38.799127\n",
      "                            >50K      45.505369\n",
      "Vietnam                     <=50K     37.193548\n",
      "                            >50K      39.200000\n",
      "Yugoslavia                  <=50K     41.600000\n",
      "                            >50K      49.500000\n",
      "Name: hours-per-week, dtype: float64 \n",
      "\n",
      "Japan:\n",
      "<=50K: 41.0\n",
      ">50K: 47.958333333333336\n"
     ]
    }
   ],
   "source": [
    "pd.set_option('display.max_rows', None)\n",
    "print(data.groupby(['native-country', 'salary'])['hours-per-week'].mean(), '\\n')\n",
    "\n",
    "JapData = data.loc[data['native-country'] == 'Japan']\n",
    "\n",
    "print('Japan:')\n",
    "print('<=50K:', float(JapData.loc[JapData['salary'] == '<=50K', ['hours-per-week']].mean()))\n",
    "print('>50K:', float(JapData.loc[JapData['salary'] == '>50K', ['hours-per-week']].mean()))"
   ]
  },
  {
   "cell_type": "markdown",
   "metadata": {},
   "source": [
    "**Other solution for Japan:**"
   ]
  },
  {
   "cell_type": "code",
   "execution_count": 58,
   "metadata": {},
   "outputs": [
    {
     "data": {
      "text/plain": [
       "native-country  salary\n",
       "Japan           <=50K     41.000000\n",
       "                >50K      47.958333\n",
       "Name: hours-per-week, dtype: float64"
      ]
     },
     "execution_count": 58,
     "metadata": {},
     "output_type": "execute_result"
    }
   ],
   "source": [
    "data.loc[data['native-country'] == 'Japan'].groupby(['native-country', 'salary'])['hours-per-week'].mean()"
   ]
  }
 ],
 "metadata": {
  "anaconda-cloud": {},
  "kernelspec": {
   "display_name": "Python 3",
   "language": "python",
   "name": "python3"
  },
  "language_info": {
   "codemirror_mode": {
    "name": "ipython",
    "version": 3
   },
   "file_extension": ".py",
   "mimetype": "text/x-python",
   "name": "python",
   "nbconvert_exporter": "python",
   "pygments_lexer": "ipython3",
   "version": "3.7.4"
  }
 },
 "nbformat": 4,
 "nbformat_minor": 1
}
